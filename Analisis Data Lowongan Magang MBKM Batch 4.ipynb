{
 "cells": [
  {
   "cell_type": "markdown",
   "id": "e325df44",
   "metadata": {},
   "source": [
    "# Impor libraries yang diperlukan"
   ]
  },
  {
   "cell_type": "code",
   "execution_count": 40,
   "id": "1ed7508f",
   "metadata": {},
   "outputs": [],
   "source": [
    "import requests\n",
    "import json\n",
    "from datetime import datetime as dt\n",
    "import pandas as pd\n",
    "import time\n",
    "import numpy as np"
   ]
  },
  {
   "cell_type": "markdown",
   "id": "fcc0847c",
   "metadata": {},
   "source": [
    "# Menandakan kapan pengumpulan data. \n",
    "**Hal ini untuk mengantisipasi data yang berubah-ubah tiap saat karena masih ada mitra yang belum upload lowongan magangnya**"
   ]
  },
  {
   "cell_type": "code",
   "execution_count": 2,
   "id": "1206e1ef",
   "metadata": {},
   "outputs": [
    {
     "name": "stdout",
     "output_type": "stream",
     "text": [
      "Current Time is :(2023-01-16 20.02)\n"
     ]
    }
   ],
   "source": [
    "curr_time = time.strftime(\"%Y-%m-%d %H.%M\", time.localtime())\n",
    " \n",
    "print(f\"Current Time is :({curr_time})\")"
   ]
  },
  {
   "cell_type": "code",
   "execution_count": 41,
   "id": "c717855a",
   "metadata": {},
   "outputs": [],
   "source": [
    "curr_time = '2023-01-16 20.02'\n",
    "file = f'Program Magang Kampus Merdeka Batch 4 ({curr_time}).csv'"
   ]
  },
  {
   "cell_type": "markdown",
   "id": "af3a9fc2",
   "metadata": {},
   "source": [
    "# Pengumpulan Data\n",
    "**Disini saya mengumpulkan data dengan cara menghubungkan variabel url dengan API dari website kampus merdeka**"
   ]
  },
  {
   "cell_type": "code",
   "execution_count": 42,
   "id": "d324574d",
   "metadata": {},
   "outputs": [],
   "source": [
    "url = \"https://api.kampusmerdeka.kemdikbud.go.id/magang/browse/position?offset=0\"\n",
    "\n",
    "payload={}\n",
    "files={}\n",
    "headers = {}\n",
    "\n",
    "response = requests.request(\"GET\", url, headers=headers, data=payload, files=files)\n",
    "\n",
    "#print(response.text)\n",
    "result = response.json()['data']"
   ]
  },
  {
   "cell_type": "markdown",
   "id": "b6898668",
   "metadata": {},
   "source": [
    "# Menyimpan data mentah yang diambil dari API website kampus merdeka"
   ]
  },
  {
   "cell_type": "code",
   "execution_count": null,
   "id": "594e319a",
   "metadata": {},
   "outputs": [],
   "source": [
    "data = pd.DataFrame.from_dict(result)\n",
    "file = f'Program Magang Kampus Merdeka Batch 4 ({curr_time}).csv'\n",
    "data.to_csv(file,index=False)"
   ]
  },
  {
   "cell_type": "markdown",
   "id": "d6c6d6c4",
   "metadata": {},
   "source": [
    "# Membersihkan dan mentransformasikan data agar kab/kot dan provinsi tiap lowongan magang dapat di \"Join\" dengan data poligon provinsi dan kab/kota"
   ]
  },
  {
   "cell_type": "markdown",
   "id": "6c2f86c4",
   "metadata": {},
   "source": [
    "## Membuat hanya menampilkan tanggal saja tidak beserta waktu"
   ]
  },
  {
   "cell_type": "code",
   "execution_count": 43,
   "id": "09b3b997",
   "metadata": {
    "scrolled": false
   },
   "outputs": [],
   "source": [
    "df = pd.read_csv(file)\n",
    "# Membuat hanya menampilkan tanggal saja tidak beserta waktu\n",
    "df['start_duration'] = pd.to_datetime(df['start_duration'].str.replace('T',' ')).dt.date\n",
    "df['end_duration'] = pd.to_datetime(df['end_duration'].str.replace('T',' ')).dt.date\n",
    "df['start_registration'] = pd.to_datetime(df['start_registration'].str.replace('T',' ')).dt.date\n",
    "df['end_registration'] = pd.to_datetime(df['end_registration'].str.replace('T',' ')).dt.date"
   ]
  },
  {
   "cell_type": "markdown",
   "id": "d667d527",
   "metadata": {},
   "source": [
    "## Membuat kolom baru untuk kota/kabupaten dan provinsi"
   ]
  },
  {
   "cell_type": "code",
   "execution_count": null,
   "id": "ca451b74",
   "metadata": {},
   "outputs": [],
   "source": [
    "#Membuat kolom baru untuk kota/kabupaten dan provinsi\n",
    "df['Kab/Kot'] = ''\n",
    "df['Provinsi'] = ''\n",
    "df['Tipe Lokasi'] = ''\n",
    "df['Lokasi'] = ''\n",
    "\n",
    "df.loc[df['location'].isin(['Kota Jakarta Selatan','Mampang Prapatan, Jakarta Selatan, DKI Jakarta',\n",
    "                       'Jakarta Selatan']),['Kab/Kot','Provinsi']]= ['Kota Jakarta Selatan','DKI Jakarta']\n",
    "\n",
    "df.loc[df['location'].isin(['Kota Jakarta Pusat']),['Kab/Kot','Provinsi']]= ['Kota Jakarta Pusat','DKI Jakarta']\n",
    "\n",
    "df.loc[df['location'].isin(['Kota Jakarta Utara']),['Kab/Kot','Provinsi']]= ['Kota Jakarta Utara','DKI Jakarta']\n",
    "\n",
    "df.loc[df['location'].isin(['Kota Tangerang','Tangerang, Banten',\n",
    "                            'Jatake, Tangerang','PT. Pancaprima Ekabrothers'])\n",
    "       ,['Kab/Kot','Provinsi']]= ['Kota Tangerang','Banten']\n",
    "\n",
    "df.loc[df['location'].isin(['Kota Jakarta Barat']),['Kab/Kot','Provinsi']]= ['Kota Jakarta Barat','DKI Jakarta']\n",
    "\n",
    "df.loc[df['location'].isin(['Kota Bandung','Kec. Bandung Kulon, Kota Bandung, Jawa Barat',\n",
    "                            'Kantor LLDIKTI Wilayah IV  Jl. P.H.H. Mustofa No.38 Bandung']),\n",
    "       ['Kab/Kot','Provinsi']]= ['Kota Bandung','Jawa Barat']\n",
    "\n",
    "df.loc[df['location'].isin(['Kab. Berau']),['Kab/Kot','Provinsi']]= ['Kab. Berau','Kalimantan Timur']\n",
    "\n",
    "df.loc[df['location'].isin(['Kota Yogyakarta','Daerah Istimewa Yogyakarta','Yogyakarta']),\n",
    "       ['Kab/Kot','Provinsi']]= ['Kota Yogyakarta','DI Yogyakarta']\n",
    "\n",
    "df.loc[df['location'].isin(['Kab. Sleman']),['Kab/Kot','Provinsi']]= ['Kab. Sleman','DI Yogyakarta']\n",
    "\n",
    "df.loc[df['location'].isin(['Kota Malang']),['Kab/Kot','Provinsi']]= ['Kota Malang','Jawa Timur']\n",
    "\n",
    "df.loc[df['location'].isin(['Kab. Tangerang']),['Kab/Kot','Provinsi']]= ['Kab. Tangerang','Banten']\n",
    "\n",
    "df.loc[df['location'].isin(['Kota Jakarta Timur','Cakung, Jakarta Timur']),\n",
    "       ['Kab/Kot','Provinsi']]= ['Kota Jakarta Timur','DKI Jakarta']\n",
    "\n",
    "df.loc[df['location'].isin(['Kota Bontang']),['Kab/Kot','Provinsi']]= ['Kota Bontang','Kalimantan Timur']\n",
    "\n",
    "df.loc[df['location'].isin(['Kota Tangerang Selatan',\n",
    "                            'Kota Tangerang Selatan, Banten','Tangerang Selatan']),['Kab/Kot','Provinsi']]= ['Kota Tangerang Selatan','Banten']\n",
    "\n",
    "df.loc[df['location'].isin(['DKI Jakarta','Jakarta','jakarta']),['Kab/Kot','Provinsi']]= ['Tidak Diketahui','DKI Jakarta']\n",
    "\n",
    "df.loc[df['location'].isin(['Kota Surakarta']),['Kab/Kot','Provinsi']]= ['Kota Surakarta','Jawa Tengah']\n",
    "\n",
    "df.loc[df['location'].isin(['Kab. Boyolali']),['Kab/Kot','Provinsi']]= ['Kab. Boyolali','Jawa Tengah']\n",
    "\n",
    "df.loc[df['location'].isin(['Kab. Gresik']),['Kab/Kot','Provinsi']]= ['Kab. Gresik','Jawa Timur']\n",
    "\n",
    "df.loc[df['location'].isin(['Kab. Badung']),['Kab/Kot','Provinsi']]= ['Kab. Badung','Bali']\n",
    "\n",
    "df.loc[df['location'].isin(['Kab. Kotawaringin Timur']),['Kab/Kot','Provinsi']]= ['Kab. Kotawaringin Timur','Kalimantan Tengah']\n",
    "\n",
    "df.loc[df['location'].isin(['Kota Depok']),['Kab/Kot','Provinsi']]= ['Kota Depok','Jawa Barat']\n",
    "\n",
    "df.loc[df['location'].isin(['Kab. Bekasi',\n",
    "                            'Cikarang, Kab. Bekasi, Jawa Barat ']),['Kab/Kot','Provinsi']]= ['Kab. Bekasi','Jawa Barat']\n",
    "\n",
    "df.loc[df['location'].isin(['Kota Semarang']),['Kab/Kot','Provinsi']]= ['Kota Semarang','Jawa Tengah']\n",
    "\n",
    "df.loc[df['location'].isin(['Kota Makassar','Makassar']),['Kab/Kot','Provinsi']]= ['Kota Makassar','Sulawesi Selatan']\n",
    "\n",
    "df.loc[df['location'].isin(['Kota Balikpapan']),['Kab/Kot','Provinsi']]= ['Kota Balikpapan','Kalimantan Timur']\n",
    "\n",
    "df.loc[df['location'].isin(['Kota Surabaya']),['Kab/Kot','Provinsi']]= ['Kota Surabaya','Jawa Timur']\n",
    "\n",
    "df.loc[df['location'].isin(['Kota Madiun']),['Kab/Kot','Provinsi']]= ['Kota Madiun','Jawa Timur']\n",
    "\n",
    "df.loc[df['location'].isin(['Kab. Banyumas']),['Kab/Kot','Provinsi']]= ['Kab. Banyumas','Jawa Tengah']\n",
    "\n",
    "df.loc[df['location'].isin(['Kota Banda Aceh']),['Kab/Kot','Provinsi']]= ['Kota Banda Aceh','Aceh']\n",
    "\n",
    "df.loc[df['location'].isin(['Sentul, Bogor',\n",
    "                            'SEAMEO BIOTROP, Jl. Raya Tajur km 6, Bogor 16134, Jawa Barat, Indonesia',\n",
    "                            'SEAMEO BIOTROP, Jl. Raya Tajur Km. 6 Bogor 16134, Jawa Barat, Indonesia',\n",
    "                            'SEAMEO BIOTROP, Jl. Raya Tajur Km 6, Bogor 16134, Jawa Barat, Indonesia',\n",
    "                            'Kota Bogor'])\n",
    "       ,['Kab/Kot','Provinsi']]= ['Kota Bogor','Jawa Barat']\n",
    "\n",
    "df.loc[df['location'].isin(['Mandalika']),['Kab/Kot','Provinsi']]= ['Kab. Lombok Tengah','Nusa Tenggara Barat']\n",
    "\n",
    "df.loc[df['location'].isin(['Jawa Tengah']),['Kab/Kot','Provinsi']]= ['Tidak Diketahui','Jawa Tengah']\n",
    "\n",
    "df.loc[df['location'].isin(['Kab. Serang']),['Kab/Kot','Provinsi']]= ['Kab. Serang','Banten']\n",
    "\n",
    "df.loc[df['location'].isin(['Kab. Dairi']),['Kab/Kot','Provinsi']]= ['Kab. Dairi','Sumatera Utara']\n",
    "\n",
    "df.loc[df['location'].isin(['Kab. Bogor']),['Kab/Kot','Provinsi']]= ['Kab. Bogor','Jawa Barat']\n",
    "\n",
    "df.loc[df['location'].isin(['Kota Jayapura']),['Kab/Kot','Provinsi']]= ['Kota Jayapura','Papua']\n",
    "\n",
    "df.loc[df['location'].isin(['Kota Bekasi']),['Kab/Kot','Provinsi']]= ['Kota Bekasi','Jawa Barat']\n",
    "\n",
    "df.loc[df['location'].isin(['Kab. Malang']),['Kab/Kot','Provinsi']]= ['Kab. Malang','Jawa Timur']\n",
    "\n",
    "df.loc[df['location'].isin(['Kota Pekanbaru']),['Kab/Kot','Provinsi']]= ['Kota Pekanbaru','Sumatera Selatan']\n",
    "\n",
    "df.loc[df['location'].isin(['Sunter, Jakarta Utara & Karawang, Jawa Barat',\n",
    "                            'Kota Yogyakarta, Kota Tegal, Kota Tangerang, Kota Jakarta Selatan',\n",
    "                            'Kota Jakarta Selatan, Kota Jakarta Pusat, Kota Bandung',\n",
    "                            'Kota Balikpapan, Kota Bandung, Jakarta, Jawa Tengah, Yogyakarta',\n",
    "                            'Kota Jakarta Pusat & 10 Kantor Region Office BSI',\n",
    "                            'Kota Jakarta Selatan, Kota Bandung',\n",
    "                            'Indomaret Head Office (Menara PIK) & Indomaret Cabang ',\n",
    "                            'Banten dan Kalimantan Selatan ',\n",
    "                            'Sekolah Mitra Jenjang SMA/SMK/SMP Sederajat di Indonesia',\n",
    "                            'Kota Jakarta, Serang, Bandung, Semarang,Surabaya, Balikpapan, Palembang, Lampung dan Bali',\n",
    "                            '42 Lokasi Kabupaten/Kota di Indonesia',\n",
    "                            'All over Indonesia',\n",
    "                            'Nasional',\n",
    "                            'Kantor Pusat BPJS Ketenagakerjaan dan Kantor Cabang BPJS Ketenagakerjaan Seluruh Indonesia',\n",
    "                            'Kab. Karawang', 'Tangerang Selatan', 'Jakarta & Surabaya',\n",
    "                            'Jakarta & Surabaya',\n",
    "                            'Sumatera Utara, Jawa Barat, Jawa Timur, Sulawesi Selatan, Sulawesi Tengah',\n",
    "                            'DKI Jakarta, Jawa tengah, DI Yogyakarta , Sumatera Utara '])\n",
    "       ,['Kab/Kot','Provinsi']]= ['> 1 Kot/Kab','> 1 Provinsi']\n",
    "\n",
    "df.loc[df['location'].isin(['Batola dan Banjarmasin Kalimantan Selatan']),\n",
    "       ['Kab/Kot','Provinsi']]= ['> 1 Kot/Kab','Kalimantan Selatan']\n",
    "\n",
    "df.loc[df['location'].isin(['Kab. Karawang']),['Kab/Kot','Provinsi']]= ['Kab. Karawang','Jawa Barat']\n",
    "\n",
    "df.loc[df['location'].isin(['Kab. Sukabumi']),['Kab/Kot','Provinsi']]= ['Kab. Sukabumi','Jawa Barat']\n",
    "\n",
    "df.loc[df['location'].isin(['Kota Medan']),['Kab/Kot','Provinsi']]= ['Kota Medan','Sumatera Utara']\n",
    "\n",
    "df.loc[df['location'].isin(['Kab. Pelalawan']),['Kab/Kot','Provinsi']]= ['Kab. Pelalawan','Riau']\n",
    "\n",
    "df.loc[df['location'].isin(['Cileungsi, Jawa Barat']),['Kab/Kot','Provinsi']]= ['Kab. Bogor','Jawa Barat']\n",
    "\n",
    "df.loc[df['location'].isin(['Kota Padang']),['Kab/Kot','Provinsi']]= ['Kota Padang','Sumatera Barat']"
   ]
  },
  {
   "cell_type": "markdown",
   "id": "a28247f5",
   "metadata": {},
   "source": [
    "## Menyesuaikan format kota/kab dan provinsi agar cocok dengan data spatial kota/kab dan provinsi"
   ]
  },
  {
   "cell_type": "code",
   "execution_count": null,
   "id": "3a9eab28",
   "metadata": {},
   "outputs": [],
   "source": [
    "lokasi_kab = df['Kab/Kot'].str.contains('Kab. ')\n",
    "lokasi_kota = df['Kab/Kot'].str.contains('Kota ')\n",
    "lebih_2kota = df['Kab/Kot']=='> 1 Kot/Kab'\n",
    "tidak_diketahui_kota = df['Kab/Kot']=='Tidak Diketahui'\n",
    "df.loc[lokasi_kab,['Tipe Lokasi','Lokasi']] = ['Kabupaten',df[lokasi_kab]['Kab/Kot'].str.lstrip('Kab.')]\n",
    "df.loc[lokasi_kota,['Tipe Lokasi','Lokasi']] = ['Kota',df[lokasi_kota]['Kab/Kot']]\n",
    "df['Lokasi'] = df['Lokasi'].str.replace(' ','')\n",
    "df.loc[lebih_2kota,['Tipe Lokasi','Lokasi']] = ['Kot/Kab',df[lebih_2kota]['Kab/Kot']]\n",
    "df.loc[tidak_diketahui_kota,['Tipe Lokasi','Lokasi']] = ['Tidak Diketahui',df[tidak_diketahui_kota]['Kab/Kot']]\n",
    "\n",
    "harusnya_kota = df['Lokasi'].isin(['KotaJakartaSelatan','KotaJakartaPusat','KotaJakartaUtara','KotaJakartaBarat',\n",
    "                                   'KotaJakartaTimur','KotaTangerangSelatan','KotaBontang','KotaSurakarta',\n",
    "                                   'KotaSurabaya','KotaBalikpapan','KotaBandaAceh','KotaPekanbaru','KotaMakassar','KotaDepok',\n",
    "                                   'KotaPadang'])\n",
    "df.loc[harusnya_kota,['Lokasi']]= df[harusnya_kota]['Lokasi'].str.lstrip('Kota')\n",
    "\n",
    "df['Nama_Provinsi']= df['Provinsi'].str.replace(' ','')\n",
    "df.loc[df['Nama_Provinsi']=='DKIJakarta',['Nama_Provinsi']]= 'JakartaRaya'\n",
    "df.loc[df['Nama_Provinsi']=='DIYogyakarta',['Nama_Provinsi']]= 'Yogyakarta'"
   ]
  },
  {
   "cell_type": "markdown",
   "id": "08954298",
   "metadata": {},
   "source": [
    "## Menambah kolom durasi magang "
   ]
  },
  {
   "cell_type": "code",
   "execution_count": null,
   "id": "55c23c97",
   "metadata": {},
   "outputs": [],
   "source": [
    "df['durasi_magang'] = (df['end_duration'] - df['start_duration']) / np.timedelta64(1, 'D')"
   ]
  },
  {
   "cell_type": "markdown",
   "id": "3877b3cd",
   "metadata": {},
   "source": [
    "# Mengecek apakah semua data di kolom Kab/Kot sudah sesuai"
   ]
  },
  {
   "cell_type": "code",
   "execution_count": 37,
   "id": "7e47b41d",
   "metadata": {
    "scrolled": false
   },
   "outputs": [
    {
     "data": {
      "text/plain": [
       "array([], dtype=object)"
      ]
     },
     "execution_count": 37,
     "metadata": {},
     "output_type": "execute_result"
    }
   ],
   "source": [
    "df[df['Kab/Kot']=='']['location'].unique()"
   ]
  },
  {
   "cell_type": "markdown",
   "id": "76483f26",
   "metadata": {},
   "source": [
    "# Menyimpan hasil cleaning di csv baru"
   ]
  },
  {
   "cell_type": "code",
   "execution_count": 38,
   "id": "38b81826",
   "metadata": {},
   "outputs": [],
   "source": [
    "df.to_csv(f'Program Magang Kampus Merdeka Batch 4 ({curr_time})_cleaning.csv',index=False)"
   ]
  },
  {
   "cell_type": "markdown",
   "id": "4b02547a",
   "metadata": {},
   "source": [
    "# Kodingan di bawah untuk proses selanjutnya jika diperlukan."
   ]
  },
  {
   "cell_type": "code",
   "execution_count": 179,
   "id": "81e1b9fe",
   "metadata": {},
   "outputs": [],
   "source": [
    "search = 'Data'\n",
    "posisi = df['name'].str.contains(search)"
   ]
  },
  {
   "cell_type": "code",
   "execution_count": 180,
   "id": "38013093",
   "metadata": {
    "collapsed": true
   },
   "outputs": [
    {
     "data": {
      "text/plain": [
       "Data Scientist                                                                              9\n",
       "Data Analyst                                                                                8\n",
       "Data Support                                                                                4\n",
       "Data Scientist Intern                                                                       3\n",
       "Data Processing and Visualization                                                           2\n",
       "Data Engineer                                                                               2\n",
       "Data Analyst Intern                                                                         2\n",
       "Data Collection                                                                             2\n",
       "Data analytic                                                                               2\n",
       "Enterprise Data Management Intern                                                           1\n",
       "Intern HC Database (ATS Project)                                                            1\n",
       "Estate Database & Analysis Officer                                                          1\n",
       "Human Capital Database                                                                      1\n",
       "Infrastructure, Database, Kampung Wisata & Budgeting                                        1\n",
       "Instruktur Data Science                                                                     1\n",
       "E-commerce Data Analyst Intern                                                              1\n",
       "Intern HC Database                                                                          1\n",
       "Data Quality & Integrity Intern                                                             1\n",
       "ACAD - Art Collection Data Administrator - Koleksi Keramik & Benda Kayu (Jakarta)           1\n",
       "Data Management Intern                                                                      1\n",
       "Marketing Data Analys                                                                       1\n",
       "Mechanization Data Analyst                                                                  1\n",
       "Mill Data Analysis Officer                                                                  1\n",
       "Otomasi Data dan Pelaporan                                                                  1\n",
       "Pengolah Data Akademik                                                                      1\n",
       "Pengolah Data Kemahasiswaan                                                                 1\n",
       "Pengolah Data Pendidik dan Tenaga Kependidikan                                              1\n",
       "Pengolah/Pengelola Data Perguruan Tinggi                                                    1\n",
       "People Data Analyst                                                                         1\n",
       "Product Business Intelligence Data & Analytics                                              1\n",
       "Production Data Analyst                                                                     1\n",
       "Safety Data Scientist                                                                       1\n",
       "Supply Chain Data Analyst                                                                   1\n",
       "IoT & Big Data Product Intern                                                               1\n",
       "Data  & Growth Analyst                                                                      1\n",
       "Data Integrity Intern                                                                       1\n",
       "Data Integration Analyst                                                                    1\n",
       "ACAD - Asset and Art Data Administrator - Koleksi Lukisan, Wayang, dan Buku (Jakarta)       1\n",
       "ACAD - Asset and Art Data Administrator - Koleksi Lukisan, Wayang, dan Buku (Yogyakarta)    1\n",
       "AI Programmer & Data Science                                                                1\n",
       "Analis Data dan Laporan Perusahaan Efek, PPE-EBUS dan Mitra Pemasaran PPE                   1\n",
       " Analyst : Data Analyst, Data Engineer, Data Scientist                                      1\n",
       "Assistant Data Analyst Engineer                                                             1\n",
       "Back End, API, & Database Developer (KG Project)                                            1\n",
       "Business Analyst / Data Analytics (Development & Augmentation Team)                         1\n",
       "Business Analyst / Data Analytics (Strategy & Policy Team)                                  1\n",
       "Conservation Database & Analysis Assistant                                                  1\n",
       "CVM Data Science & Analytics Intern                                                         1\n",
       "Data Analis                                                                                 1\n",
       "Data Analyst & Data Engineer                                                                1\n",
       "Name: name, dtype: int64"
      ]
     },
     "execution_count": 180,
     "metadata": {},
     "output_type": "execute_result"
    }
   ],
   "source": [
    "df[posisi]['name'].value_counts().iloc[0:50]"
   ]
  },
  {
   "cell_type": "code",
   "execution_count": null,
   "id": "268d7f77",
   "metadata": {},
   "outputs": [],
   "source": [
    "df = df.rename({'id':'Id','name':'Name','activity_name':'Activity Name','total':'Total','start_duration':'Start Duration',\n",
    "                         'end_duration':'End Duration','start_registration':'Start Registration',\n",
    "                         'end_registration':'End Registration','credits_count':'Credits Count','activity_type':'Activity Type',\n",
    "                         'location':'Location','location_kotakab_code':'Location KotaKab Code','mitra_id':'Mitra Id',\n",
    "                        'certified':'Certified','logo':'Logo','mitra_name':'Mitra Name'},axis='columns')"
   ]
  }
 ],
 "metadata": {
  "kernelspec": {
   "display_name": "Python 3 (ipykernel)",
   "language": "python",
   "name": "python3"
  },
  "language_info": {
   "codemirror_mode": {
    "name": "ipython",
    "version": 3
   },
   "file_extension": ".py",
   "mimetype": "text/x-python",
   "name": "python",
   "nbconvert_exporter": "python",
   "pygments_lexer": "ipython3",
   "version": "3.10.4"
  }
 },
 "nbformat": 4,
 "nbformat_minor": 5
}
